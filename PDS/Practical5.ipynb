{
 "cells": [
  {
   "cell_type": "code",
   "execution_count": 23,
   "metadata": {},
   "outputs": [],
   "source": [
    "import re\n",
    "import numpy as np\n",
    "import pandas as pd\n",
    "\n",
    "df = pd.DataFrame(pd.read_csv('./data/loan_data_set.csv'))"
   ]
  },
  {
   "cell_type": "code",
   "execution_count": 22,
   "metadata": {},
   "outputs": [
    {
     "name": "stdout",
     "output_type": "stream",
     "text": [
      "    Loan_ID Gender Married Dependents     Education Self_Employed  \\\n",
      "0  LP001002   Male      No          0      Graduate            No   \n",
      "1  LP001003   Male     Yes          1      Graduate            No   \n",
      "2  LP001005   Male     Yes          0      Graduate           Yes   \n",
      "3  LP001006   Male     Yes          0  Not Graduate            No   \n",
      "4  LP001008   Male      No          0      Graduate            No   \n",
      "\n",
      "   ApplicantIncome  CoapplicantIncome  LoanAmount  Loan_Amount_Term  \\\n",
      "0             5849                0.0         NaN             360.0   \n",
      "1             4583             1508.0       128.0             360.0   \n",
      "2             3000                0.0        66.0             360.0   \n",
      "3             2583             2358.0       120.0             360.0   \n",
      "4             6000                0.0       141.0             360.0   \n",
      "\n",
      "   Credit_History Property_Area Loan_Status     Email  \n",
      "0             1.0         Urban           Y  LP001002  \n",
      "1             1.0         Rural           N  LP001003  \n",
      "2             1.0         Urban           Y  LP001005  \n",
      "3             1.0         Urban           Y  LP001006  \n",
      "4             1.0         Urban           Y  LP001008  \n"
     ]
    }
   ],
   "source": []
  },
  {
   "cell_type": "code",
   "execution_count": 27,
   "metadata": {},
   "outputs": [
    {
     "name": "stderr",
     "output_type": "stream",
     "text": [
      "C:\\Users\\Jeel Gajera\\AppData\\Local\\Temp\\ipykernel_3464\\1321985556.py:4: SettingWithCopyWarning: \n",
      "A value is trying to be set on a copy of a slice from a DataFrame\n",
      "\n",
      "See the caveats in the documentation: https://pandas.pydata.org/pandas-docs/stable/user_guide/indexing.html#returning-a-view-versus-a-copy\n",
      "  df[\"Email\"][i] = line\n",
      "C:\\Users\\Jeel Gajera\\AppData\\Local\\Temp\\ipykernel_3464\\1321985556.py:11: SettingWithCopyWarning: \n",
      "A value is trying to be set on a copy of a slice from a DataFrame\n",
      "\n",
      "See the caveats in the documentation: https://pandas.pydata.org/pandas-docs/stable/user_guide/indexing.html#returning-a-view-versus-a-copy\n",
      "  df[\"Phone\"][i] = line\n"
     ]
    }
   ],
   "source": [
    "with open(\"./data/email.txt\", 'r', encoding=\"utf8\") as f:\n",
    "    i = 0\n",
    "    for line in f:\n",
    "        df[\"Email\"][i] = line\n",
    "        # print(line)\n",
    "        i += 1\n",
    "\n",
    "with open(\"./data/phone.txt\", \"r\") as f:\n",
    "    i = 0\n",
    "    for line in f:\n",
    "        df[\"Phone\"][i] = line\n",
    "        i += 1"
   ]
  },
  {
   "cell_type": "code",
   "execution_count": 28,
   "metadata": {},
   "outputs": [
    {
     "name": "stdout",
     "output_type": "stream",
     "text": [
      "0         email@example.com\\n is a valid email address\n",
      "1    firstname.lastname@example.com\\n is a valid em...\n",
      "2    email@subdomain.example.com\\n is not a valid e...\n",
      "3          plainaddress\\n is not a valid email address\n",
      "4      #@%^%#$@#$@#.com\\n is not a valid email address\n",
      "Name: Valid_Email, dtype: object\n",
      "0        8787296764\\n is a valid phone number\n",
      "1    1775373631\\n is not a valid phone number\n",
      "2        9532242644\\n is a valid phone number\n",
      "3        6400462119\\n is a valid phone number\n",
      "4        8639151377\\n is a valid phone number\n",
      "Name: Valid_Phone, dtype: object\n"
     ]
    }
   ],
   "source": [
    "def validateEmail(email):\n",
    "    if re.match(r\"^[a-zA-Z0-9]+[\\._]?[a-zA-Z0-9]+[@]\\w+[.]\\w{2,3}$\", email):\n",
    "        return f\"{email} is a valid email address\"\n",
    "    else:\n",
    "        return f\"{email} is not a valid email address\"\n",
    "\n",
    "def validatePhone(phone):\n",
    "    if re.match(r\"^[6-9]\\d{9}$\", phone):\n",
    "        return f\"{phone} is a valid phone number\"\n",
    "    else:\n",
    "        return f\"{phone} is not a valid phone number\"\n",
    "\n",
    "df['Valid_Email'] = df['Email'].apply(validateEmail)\n",
    "df['Valid_Phone'] = df['Phone'].apply(validatePhone)\n",
    "\n",
    "print(df['Valid_Email'].head())\n",
    "print(df['Valid_Phone'].head())"
   ]
  }
 ],
 "metadata": {
  "kernelspec": {
   "display_name": "Python 3.10.4 64-bit",
   "language": "python",
   "name": "python3"
  },
  "language_info": {
   "codemirror_mode": {
    "name": "ipython",
    "version": 3
   },
   "file_extension": ".py",
   "mimetype": "text/x-python",
   "name": "python",
   "nbconvert_exporter": "python",
   "pygments_lexer": "ipython3",
   "version": "3.10.4"
  },
  "orig_nbformat": 4,
  "vscode": {
   "interpreter": {
    "hash": "26de051ba29f2982a8de78e945f0abaf191376122a1563185a90213a26c5da77"
   }
  }
 },
 "nbformat": 4,
 "nbformat_minor": 2
}
