{
 "cells": [
  {
   "cell_type": "code",
   "execution_count": 4,
   "metadata": {},
   "outputs": [],
   "source": [
    "from lxml import html\n",
    "import requests"
   ]
  },
  {
   "cell_type": "code",
   "execution_count": 60,
   "metadata": {},
   "outputs": [
    {
     "name": "stdout",
     "output_type": "stream",
     "text": [
      "['A Premier Academic & Research Institution']\n",
      "['Lets talk about everything!']\n",
      "[]\n"
     ]
    }
   ],
   "source": [
    "def parseHTML(url, xpath):\n",
    "    page = requests.get(url)\n",
    "    tree = html.fromstring(page.content) \n",
    "    return tree.xpath(xpath)\n",
    "\n",
    "site_data = [\n",
    "    {\n",
    "        \"url\": 'https://www.gtu.ac.in/',\n",
    "        \"xpath\": '//*[@id=\"carouselExampleControls\"]/div/div[1]/div/div/h2/text()'\n",
    "    },\n",
    "    {\n",
    "        \"url\": 'https://jeelgajera.vercel.app/contact',\n",
    "        \"xpath\": '//*[@id=\"statusText\"]/text()'\n",
    "    },\n",
    "    {\n",
    "        \"url\": 'https://ldce.ac.in/',\n",
    "        \"xpath\": '/html/body/div[1]/div/div[1]/ul/li[7]/div[3]/text()'\n",
    "    }\n",
    "]\n",
    "\n",
    "for site in site_data:\n",
    "    print(parseHTML(site['url'], site['xpath']))"
   ]
  }
 ],
 "metadata": {
  "kernelspec": {
   "display_name": "Python 3.10.4 64-bit",
   "language": "python",
   "name": "python3"
  },
  "language_info": {
   "codemirror_mode": {
    "name": "ipython",
    "version": 3
   },
   "file_extension": ".py",
   "mimetype": "text/x-python",
   "name": "python",
   "nbconvert_exporter": "python",
   "pygments_lexer": "ipython3",
   "version": "3.10.4"
  },
  "orig_nbformat": 4,
  "vscode": {
   "interpreter": {
    "hash": "26de051ba29f2982a8de78e945f0abaf191376122a1563185a90213a26c5da77"
   }
  }
 },
 "nbformat": 4,
 "nbformat_minor": 2
}
